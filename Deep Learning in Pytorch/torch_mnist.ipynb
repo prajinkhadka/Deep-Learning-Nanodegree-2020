{
  "nbformat": 4,
  "nbformat_minor": 0,
  "metadata": {
    "colab": {
      "name": "torch mnist.ipynb",
      "provenance": [],
      "collapsed_sections": []
    },
    "kernelspec": {
      "name": "python3",
      "display_name": "Python 3"
    }
  },
  "cells": [
    {
      "cell_type": "code",
      "metadata": {
        "id": "ugsJ8ExJySmX",
        "colab_type": "code",
        "colab": {}
      },
      "source": [
        "import numpy as np\n",
        "import torch\n",
        "\n",
        "import matplotlib.pyplot as plt"
      ],
      "execution_count": 0,
      "outputs": []
    },
    {
      "cell_type": "code",
      "metadata": {
        "id": "rIPh2gjhycfX",
        "colab_type": "code",
        "colab": {}
      },
      "source": [
        "# Neural Network to classify Digits of MNSIT"
      ],
      "execution_count": 0,
      "outputs": []
    },
    {
      "cell_type": "markdown",
      "metadata": {
        "id": "GjcvcoB2ygxx",
        "colab_type": "text"
      },
      "source": [
        "# Neural Network to classify Digits of MNSIT"
      ]
    },
    {
      "cell_type": "code",
      "metadata": {
        "id": "9-fiTVIfyhUo",
        "colab_type": "code",
        "colab": {}
      },
      "source": [
        "# accessing data from torchvision\n",
        "\n",
        "from torchvision import datasets, transforms\n",
        "\n",
        "# defining the transform to normalzie the data\n",
        "\n",
        "\n",
        "transform = transforms.Compose([transforms.ToTensor(), transforms.Normalize((0.5,), (0.5,))\n",
        "                               ])\n",
        "\n",
        "\n",
        "\n",
        "trainset = datasets.MNIST('MNIST_data/', download=True, train=True, transform=transform)\n",
        "trainloader = torch.utils.data.DataLoader(trainset, batch_size= 64, shuffle=True)\n"
      ],
      "execution_count": 0,
      "outputs": []
    },
    {
      "cell_type": "code",
      "metadata": {
        "id": "tIv3vcf8y9CC",
        "colab_type": "code",
        "outputId": "2e5c607e-6194-441d-ac3a-6d8cadec48ee",
        "colab": {
          "base_uri": "https://localhost:8080/",
          "height": 69
        }
      },
      "source": [
        "# we can use trainloader as an iterator.\n",
        "\n",
        "dataiter = iter(trainloader)\n",
        "images, labels = dataiter.next()\n",
        "\n",
        "print(type(images))\n",
        "print(images.shape)\n",
        "print(labels.shape)"
      ],
      "execution_count": 0,
      "outputs": [
        {
          "output_type": "stream",
          "text": [
            "<class 'torch.Tensor'>\n",
            "torch.Size([64, 1, 28, 28])\n",
            "torch.Size([64])\n"
          ],
          "name": "stdout"
        }
      ]
    },
    {
      "cell_type": "code",
      "metadata": {
        "id": "PPgEfDvE0Jsk",
        "colab_type": "code",
        "outputId": "4fe3ecb0-a6c0-47b7-9fbf-f3ea98358834",
        "colab": {
          "base_uri": "https://localhost:8080/",
          "height": 282
        }
      },
      "source": [
        "plt.imshow(images[1].numpy().squeeze(), cmap ='Greys_r')"
      ],
      "execution_count": 0,
      "outputs": [
        {
          "output_type": "execute_result",
          "data": {
            "text/plain": [
              "<matplotlib.image.AxesImage at 0x7fbbef2e6b38>"
            ]
          },
          "metadata": {
            "tags": []
          },
          "execution_count": 13
        },
        {
          "output_type": "display_data",
          "data": {
            "image/png": "[encoded data removed]",
            "text/plain": [
              "<Figure size 432x288 with 1 Axes>"
            ]
          },
          "metadata": {
            "tags": [],
            "needs_background": "light"
          }
        }
      ]
    },
    {
      "cell_type": "code",
      "metadata": {
        "id": "wsgGZZgN08OE",
        "colab_type": "code",
        "outputId": "8e951ede-0da3-4a16-e396-77f25ec90a99",
        "colab": {
          "base_uri": "https://localhost:8080/",
          "height": 52
        }
      },
      "source": [
        "print(images[1].numpy().shape)\n",
        "print(images[1].numpy().squeeze().shape)"
      ],
      "execution_count": 0,
      "outputs": [
        {
          "output_type": "stream",
          "text": [
            "(1, 28, 28)\n",
            "(28, 28)\n"
          ],
          "name": "stdout"
        }
      ]
    },
    {
      "cell_type": "code",
      "metadata": {
        "id": "2kzKd3PK1By7",
        "colab_type": "code",
        "colab": {}
      },
      "source": [
        "def activation(x):\n",
        "  return 1/(1 +torch.exp(-x))\n",
        "\n",
        "#flattening\n",
        "inputs = images.view(images.shape[0], -1)\n",
        "# images.view(images.shape[0], -1) \n",
        "\n",
        "# creating the paramters.\n",
        "w1 = torch.randn(784, 256)\n",
        "b1 = torch.randn(256)\n",
        "\n",
        "w2 = torch.randn(256, 10)\n",
        "b2 =torch.randn(10)\n",
        "\n",
        "h = activation(torch.mm(inputs, w1) + b1)\n",
        "\n",
        "out = torch.mm(h, w2)+b2"
      ],
      "execution_count": 0,
      "outputs": []
    },
    {
      "cell_type": "code",
      "metadata": {
        "id": "_OvJ35ja1o2R",
        "colab_type": "code",
        "outputId": "ea9278df-7d82-4318-bbad-9eed03828bfd",
        "colab": {
          "base_uri": "https://localhost:8080/",
          "height": 34
        }
      },
      "source": [
        "print(out.shape)"
      ],
      "execution_count": 0,
      "outputs": [
        {
          "output_type": "stream",
          "text": [
            "torch.Size([64, 10])\n"
          ],
          "name": "stdout"
        }
      ]
    },
    {
      "cell_type": "code",
      "metadata": {
        "id": "w6CPsSWR2kgc",
        "colab_type": "code",
        "colab": {}
      },
      "source": [
        "#softmax\n",
        "\n",
        "def softmax(x):\n",
        "  return torch.exp(x) / torch.sum(torch.exp(x), dim =1).view(-1,1)\n",
        "  # dim 1=1 , for rows."
      ],
      "execution_count": 0,
      "outputs": []
    },
    {
      "cell_type": "code",
      "metadata": {
        "id": "lmrlc69X2_L8",
        "colab_type": "code",
        "colab": {}
      },
      "source": [
        "probabilities = softmax(out)"
      ],
      "execution_count": 0,
      "outputs": []
    },
    {
      "cell_type": "code",
      "metadata": {
        "id": "w_Wm3Zbf3Cgl",
        "colab_type": "code",
        "outputId": "561eecc4-fdbc-4a8a-b078-387ba3561b1e",
        "colab": {
          "base_uri": "https://localhost:8080/",
          "height": 34
        }
      },
      "source": [
        "probabilities.shape"
      ],
      "execution_count": 0,
      "outputs": [
        {
          "output_type": "execute_result",
          "data": {
            "text/plain": [
              "torch.Size([64, 10])"
            ]
          },
          "metadata": {
            "tags": []
          },
          "execution_count": 29
        }
      ]
    },
    {
      "cell_type": "code",
      "metadata": {
        "id": "Tnts1yCV3Efl",
        "colab_type": "code",
        "outputId": "1667e37f-84e6-4966-fe1d-1b6adb7ab4d7",
        "colab": {
          "base_uri": "https://localhost:8080/",
          "height": 176
        }
      },
      "source": [
        "probabilities.sum(dim=1)"
      ],
      "execution_count": 0,
      "outputs": [
        {
          "output_type": "execute_result",
          "data": {
            "text/plain": [
              "tensor([1.0000, 1.0000, 1.0000, 1.0000, 1.0000, 1.0000, 1.0000, 1.0000, 1.0000,\n",
              "        1.0000, 1.0000, 1.0000, 1.0000, 1.0000, 1.0000, 1.0000, 1.0000, 1.0000,\n",
              "        1.0000, 1.0000, 1.0000, 1.0000, 1.0000, 1.0000, 1.0000, 1.0000, 1.0000,\n",
              "        1.0000, 1.0000, 1.0000, 1.0000, 1.0000, 1.0000, 1.0000, 1.0000, 1.0000,\n",
              "        1.0000, 1.0000, 1.0000, 1.0000, 1.0000, 1.0000, 1.0000, 1.0000, 1.0000,\n",
              "        1.0000, 1.0000, 1.0000, 1.0000, 1.0000, 1.0000, 1.0000, 1.0000, 1.0000,\n",
              "        1.0000, 1.0000, 1.0000, 1.0000, 1.0000, 1.0000, 1.0000, 1.0000, 1.0000,\n",
              "        1.0000])"
            ]
          },
          "metadata": {
            "tags": []
          },
          "execution_count": 30
        }
      ]
    },
    {
      "cell_type": "code",
      "metadata": {
        "id": "L8E4XQ-t3HHx",
        "colab_type": "code",
        "colab": {}
      },
      "source": [
        ""
      ],
      "execution_count": 0,
      "outputs": []
    },
    {
      "cell_type": "markdown",
      "metadata": {
        "id": "veoqHOrQA6uS",
        "colab_type": "text"
      },
      "source": [
        "# Building Networks with pytorch `nn` module"
      ]
    },
    {
      "cell_type": "code",
      "metadata": {
        "id": "HI7adRnnBeA_",
        "colab_type": "code",
        "colab": {}
      },
      "source": [
        "from torch import nn"
      ],
      "execution_count": 0,
      "outputs": []
    },
    {
      "cell_type": "code",
      "metadata": {
        "id": "TMt45_Bf_caE",
        "colab_type": "code",
        "colab": {}
      },
      "source": [
        "class Network(nn.Module):\n",
        "  def __init__(self):\n",
        "    super().__init__()\n",
        "\n",
        "    #inpput to hidden\n",
        "    self.hidden = nn.Linear(784,256)\n",
        "    #hidden to output\n",
        "    self.output = nn.Linear(256,10)\n",
        "\n",
        "    self.sigmoid = nn.Sigmoid()\n",
        "    self.softmax = nn.Softmax(dim=1)\n",
        "\n",
        "  def forward(self,x):\n",
        "    # passing input tensor through each operations\n",
        "    x= self.hidden(x)\n",
        "    x = self.sigmoid(x)\n",
        "    x = self.output(x)\n",
        "    x=self.sigmoid(x)\n",
        "\n",
        "    return x\n",
        "\n"
      ],
      "execution_count": 0,
      "outputs": []
    },
    {
      "cell_type": "code",
      "metadata": {
        "id": "tn70oXCb_fWc",
        "colab_type": "code",
        "outputId": "ce843b80-aad3-4b4b-d374-689591000eba",
        "colab": {
          "base_uri": "https://localhost:8080/",
          "height": 121
        }
      },
      "source": [
        "model = Network()\n",
        "model"
      ],
      "execution_count": 0,
      "outputs": [
        {
          "output_type": "execute_result",
          "data": {
            "text/plain": [
              "Network(\n",
              "  (hidden): Linear(in_features=784, out_features=256, bias=True)\n",
              "  (output): Linear(in_features=256, out_features=10, bias=True)\n",
              "  (sigmoid): Sigmoid()\n",
              "  (softmax): Softmax(dim=1)\n",
              ")"
            ]
          },
          "metadata": {
            "tags": []
          },
          "execution_count": 44
        }
      ]
    },
    {
      "cell_type": "markdown",
      "metadata": {
        "id": "uJkFnF69CPSk",
        "colab_type": "text"
      },
      "source": [
        "### Using functional"
      ]
    },
    {
      "cell_type": "code",
      "metadata": {
        "id": "tg59LvKL_stH",
        "colab_type": "code",
        "colab": {}
      },
      "source": [
        "import torch.nn.functional as F\n",
        "\n",
        "class Network(nn.Module):\n",
        "  def __init__(self):\n",
        "    super().__init__()\n",
        "    self.hidden = nn.Linear(784,256)\n",
        "    self.output = nn.Linear(256,10)\n",
        "\n",
        "  def forward(self,x):\n",
        "    x = F.sigmoid(self.hidden(x))\n",
        "    x = F.softmax(self.output(x), dim =1)\n",
        "    return x"
      ],
      "execution_count": 0,
      "outputs": []
    },
    {
      "cell_type": "code",
      "metadata": {
        "id": "Nx8Un5ppDBjp",
        "colab_type": "code",
        "colab": {}
      },
      "source": [
        "# building the sequential model"
      ],
      "execution_count": 0,
      "outputs": []
    },
    {
      "cell_type": "code",
      "metadata": {
        "id": "EIlBfOdsEEur",
        "colab_type": "code",
        "outputId": "9fc10c2c-7f14-424d-add1-fc2304a67b0a",
        "colab": {
          "base_uri": "https://localhost:8080/",
          "height": 34
        }
      },
      "source": [
        "model = nn.Sequential(nn.Linear(784,128),\n",
        "                      nn.ReLU(),\n",
        "                      nn.Linear(128,64),\n",
        "                      nn.ReLU(),\n",
        "                      nn.Linear(64,10))\n",
        "\n",
        "criterian = nn.CrossEntropyLoss()\n",
        "\n",
        "# get the images and its labels\n",
        "images, labels = next(iter(trainloader))\n",
        "\n",
        "#flatten\n",
        "images = images.view(images.shape[0], -1)\n",
        "\n",
        "#forward pass\n",
        "logits = model(images)\n",
        "#caluclate the loss\n",
        "loss = criterian(logits, labels)\n",
        "\n",
        "print(loss)"
      ],
      "execution_count": 0,
      "outputs": [
        {
          "output_type": "stream",
          "text": [
            "tensor(2.2939, grad_fn=<NllLossBackward>)\n"
          ],
          "name": "stdout"
        }
      ]
    },
    {
      "cell_type": "code",
      "metadata": {
        "id": "VSC7HZ5NEm_a",
        "colab_type": "code",
        "outputId": "5416ee5f-9367-48d6-ced0-a4ecf5f76785",
        "colab": {
          "base_uri": "https://localhost:8080/",
          "height": 34
        }
      },
      "source": [
        "# netowkr with log softmax output\n",
        "\n",
        "\n",
        "model = nn.Sequential(nn.Linear(784,128),\n",
        "                      nn.ReLU(),\n",
        "                      nn.Linear(128,64),\n",
        "                      nn.ReLU(),\n",
        "                      nn.Linear(64,10),\n",
        "                      nn.LogSoftmax(dim=1))\n",
        "\n",
        "criterian = nn.NLLLoss()\n",
        "\n",
        "# get the images and its labels\n",
        "images, labels = next(iter(trainloader))\n",
        "\n",
        "#flatten\n",
        "images = images.view(images.shape[0], -1)\n",
        "\n",
        "#forward pass\n",
        "logits = model(images)\n",
        "#caluclate the loss\n",
        "loss = criterian(logits, labels)\n",
        "\n",
        "print(loss)"
      ],
      "execution_count": 0,
      "outputs": [
        {
          "output_type": "stream",
          "text": [
            "tensor(2.2886, grad_fn=<NllLossBackward>)\n"
          ],
          "name": "stdout"
        }
      ]
    },
    {
      "cell_type": "code",
      "metadata": {
        "id": "dsbSTkNKFPR8",
        "colab_type": "code",
        "outputId": "b7381e5d-f9a3-424f-9459-ab5bc57964b2",
        "colab": {
          "base_uri": "https://localhost:8080/",
          "height": 191
        }
      },
      "source": [
        "print('Before Backward pass: \\n', model[0].weight.grad)\n",
        "loss.backward()\n",
        "print('After backward pass: \\n', model[0].weight.grad)"
      ],
      "execution_count": 0,
      "outputs": [
        {
          "output_type": "stream",
          "text": [
            "Before Backward pass: \n",
            " None\n",
            "After backward pass: \n",
            " tensor([[-0.0026, -0.0026, -0.0026,  ..., -0.0026, -0.0026, -0.0026],\n",
            "        [-0.0045, -0.0045, -0.0045,  ..., -0.0045, -0.0045, -0.0045],\n",
            "        [-0.0009, -0.0009, -0.0009,  ..., -0.0009, -0.0009, -0.0009],\n",
            "        ...,\n",
            "        [-0.0005, -0.0005, -0.0005,  ..., -0.0005, -0.0005, -0.0005],\n",
            "        [-0.0006, -0.0006, -0.0006,  ..., -0.0006, -0.0006, -0.0006],\n",
            "        [ 0.0000,  0.0000,  0.0000,  ...,  0.0000,  0.0000,  0.0000]])\n"
          ],
          "name": "stdout"
        }
      ]
    },
    {
      "cell_type": "code",
      "metadata": {
        "id": "nrLMdDEoGGag",
        "colab_type": "code",
        "colab": {}
      },
      "source": [
        "from torch import optim \n",
        "optimizer = optim.SGD(model.parameters(), lr =0.01)\n"
      ],
      "execution_count": 0,
      "outputs": []
    },
    {
      "cell_type": "code",
      "metadata": {
        "id": "2C4e4qyPGdpr",
        "colab_type": "code",
        "colab": {}
      },
      "source": [
        ""
      ],
      "execution_count": 0,
      "outputs": []
    },
    {
      "cell_type": "markdown",
      "metadata": {
        "id": "Ya3Oa7e0GgZV",
        "colab_type": "text"
      },
      "source": [
        "1. Mkae a forward pass\n",
        "2. Calculate the loss\n",
        "3. perform the backward pass with `loss.backward()`\n",
        "4. train using optimizer"
      ]
    },
    {
      "cell_type": "code",
      "metadata": {
        "id": "45euYeSzGph_",
        "colab_type": "code",
        "outputId": "4b4564a6-e683-43f6-9e54-0fabc74d8d8c",
        "colab": {
          "base_uri": "https://localhost:8080/",
          "height": 315
        }
      },
      "source": [
        "# traning for a single pass -> example\n",
        "\n",
        "print('Initial Weights - ', model[0].weight)\n",
        "images, labels = next(iter(trainloader))\n",
        "images.resize_(64, 784)\n",
        "\n",
        "# clearing grad\n",
        "optimizer.zero_grad()\n",
        "\n",
        "#forward pass\n",
        "output = model.forward(images)\n",
        "loss = criterian(output, labels)\n",
        "loss.backward()\n",
        "print('Gradeint -', model[0].weight.grad)"
      ],
      "execution_count": 0,
      "outputs": [
        {
          "output_type": "stream",
          "text": [
            "Initial Weights -  Parameter containing:\n",
            "tensor([[-0.0098,  0.0020,  0.0301,  ...,  0.0177, -0.0239, -0.0229],\n",
            "        [ 0.0284, -0.0210, -0.0069,  ..., -0.0270,  0.0146, -0.0011],\n",
            "        [-0.0183, -0.0308,  0.0057,  ...,  0.0243,  0.0282, -0.0149],\n",
            "        ...,\n",
            "        [ 0.0035,  0.0022,  0.0206,  ..., -0.0224, -0.0261, -0.0202],\n",
            "        [ 0.0001,  0.0221, -0.0348,  ..., -0.0268, -0.0046,  0.0143],\n",
            "        [ 0.0331, -0.0136,  0.0167,  ...,  0.0185,  0.0240, -0.0094]],\n",
            "       requires_grad=True)\n",
            "Gradeint - tensor([[ 0.0016,  0.0016,  0.0016,  ...,  0.0016,  0.0016,  0.0016],\n",
            "        [-0.0086, -0.0086, -0.0086,  ..., -0.0086, -0.0086, -0.0086],\n",
            "        [-0.0004, -0.0004, -0.0004,  ..., -0.0004, -0.0004, -0.0004],\n",
            "        ...,\n",
            "        [-0.0010, -0.0010, -0.0010,  ..., -0.0010, -0.0010, -0.0010],\n",
            "        [-0.0028, -0.0028, -0.0028,  ..., -0.0028, -0.0028, -0.0028],\n",
            "        [-0.0001, -0.0001, -0.0001,  ..., -0.0001, -0.0001, -0.0001]])\n"
          ],
          "name": "stdout"
        }
      ]
    },
    {
      "cell_type": "code",
      "metadata": {
        "id": "gMWJBp3lG1hx",
        "colab_type": "code",
        "outputId": "d18129ed-1bef-4045-9f04-11966c2bf207",
        "colab": {
          "base_uri": "https://localhost:8080/",
          "height": 173
        }
      },
      "source": [
        "optimizer.step()\n",
        "print('updated weight', model[0].weight)"
      ],
      "execution_count": 0,
      "outputs": [
        {
          "output_type": "stream",
          "text": [
            "updated weight Parameter containing:\n",
            "tensor([[-0.0099,  0.0020,  0.0301,  ...,  0.0177, -0.0239, -0.0229],\n",
            "        [ 0.0285, -0.0209, -0.0068,  ..., -0.0269,  0.0147, -0.0010],\n",
            "        [-0.0183, -0.0308,  0.0057,  ...,  0.0244,  0.0282, -0.0149],\n",
            "        ...,\n",
            "        [ 0.0035,  0.0022,  0.0206,  ..., -0.0224, -0.0261, -0.0201],\n",
            "        [ 0.0002,  0.0221, -0.0347,  ..., -0.0268, -0.0046,  0.0143],\n",
            "        [ 0.0331, -0.0136,  0.0167,  ...,  0.0185,  0.0240, -0.0094]],\n",
            "       requires_grad=True)\n"
          ],
          "name": "stdout"
        }
      ]
    },
    {
      "cell_type": "code",
      "metadata": {
        "id": "ldTu1f5SHd6U",
        "colab_type": "code",
        "outputId": "229f286c-dab3-4da4-8ca5-8f1ba02483fe",
        "colab": {
          "base_uri": "https://localhost:8080/",
          "height": 104
        }
      },
      "source": [
        "# training \n",
        "\n",
        "model = nn.Sequential(nn.Linear(784,128),\n",
        "                      nn.ReLU(),\n",
        "                      nn.Linear(128,64),\n",
        "                      nn.ReLU(),\n",
        "                      nn.Linear(64,10),\n",
        "                      nn.LogSoftmax(dim=1))\n",
        "\n",
        "criterian = nn.NLLLoss()\n",
        "optimizer = optim.SGD(model.parameters(), lr = 0.003)\n",
        "epochs =5\n",
        "for e in range(epochs):\n",
        "  running_loss =0 \n",
        "  for images, labels in trainloader:\n",
        "    images = images.view(images.shape[0], -1)\n",
        "    optimizer.zero_grad()\n",
        "    output = model.forward(images)\n",
        "    loss = criterian(output, labels)\n",
        "    loss.backward()\n",
        "    optimizer.step()\n",
        "    running_loss += loss.item()\n",
        "  else:\n",
        "    print(f\"training loss :{running_loss /len(trainloader)}\")\n",
        "  "
      ],
      "execution_count": 0,
      "outputs": [
        {
          "output_type": "stream",
          "text": [
            "training loss :1.8811899527812055\n",
            "training loss :0.8548393096051999\n",
            "training loss :0.523025865652668\n",
            "training loss :0.43002903567893164\n",
            "training loss :0.3869176794852275\n"
          ],
          "name": "stdout"
        }
      ]
    },
    {
      "cell_type": "code",
      "metadata": {
        "id": "5iA7RxfuImCh",
        "colab_type": "code",
        "colab": {}
      },
      "source": [
        ""
      ],
      "execution_count": 0,
      "outputs": []
    }
  ]
}